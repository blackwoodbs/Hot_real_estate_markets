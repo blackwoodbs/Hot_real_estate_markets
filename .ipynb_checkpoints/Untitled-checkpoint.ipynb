{
 "cells": [
  {
   "cell_type": "markdown",
   "metadata": {},
   "source": [
    "## trending real estate markets\n",
    "\n",
    "    Brad Blackwood\n",
    "    Phase 4 Project\n",
    "    2022-02-18\n",
    "    \n",
    "    \n",
    "\n",
    "![alt text](images/monopoly_img.jpeg)\n",
    "\n",
    "### purpose\n",
    "    \n",
    "    The goal of this project is to model volumetric trends of real estate markets. \n",
    "\n",
    "### buisness understanding\n",
    "\n",
    "    Being able to identifiy emerging real estate markets early could potentially lead to great investment opertunities. Houseing volume data was best suited for this as a leading indicator. \n",
    "\n",
    "\n",
    "![alt text](images/zillow.png)\n",
    "\n",
    "### overview\n",
    "\n",
    "    The data was collected from https://www.zillow.com/research/data/. It contains number of condo units sold per month in 95 different Metropolitan areas. Time series modeling was choosen to be the most appropriate method to make predictions using the data. To compare different areas it was important to establish baseline parameters, this was done using the 'United States' regional data. Each region was then modeled and a slope of the predictios was taken to rank the regions. A higher slope represents a stronger positive trend in volume. A mean percent error was taken as a method to validate the data. Scaling of the data was determined to be appropriate given comparisons between volume of regions were significantly different. Future trends were then forcasted and ranked based on a 2 year slope. Top and bottom rankings were then visualized and compared between the models. \n",
    "\n",
    "![alt text](images/philly.png)\n",
    "\n",
    "### imports\n",
    "\n",
    "```python\n",
    "import pandas as pd\n",
    "import matplotlib.pyplot as plt\n",
    "from statsmodels.tsa.arima.model import ARIMA\n",
    "from statsmodels.tsa.api import SARIMAX\n",
    "import statsmodels.api as sm\n",
    "from statsmodels.graphics.tsaplots import plot_pacf\n",
    "from statsmodels.graphics.tsaplots import plot_acf\n",
    "from statsmodels.tsa.stattools import adfuller\n",
    "import warnings\n",
    "from sklearn.preprocessing import StandardScaler, MinMaxScaler\n",
    "from sklearn.linear_model import LinearRegression\n",
    "import numpy as np\n",
    "```\n",
    "\n",
    "### repository\n",
    "\n",
    "    |- Zillow_ts_working.ipynb\n",
    "    |- README.md\n",
    "    |- presentation.pdf\n",
    "    |- data\n",
    "       |-\n",
    "    |- dataframes\n",
    "       |- mm_forcasts_df.pkl\n",
    "       |- slope_validation_df.pkl\n",
    "       |- ss_forcasts_df.pkl\n",
    "       |- ts_forcasts_df.pkl\n",
    "    |- images\n",
    "       |-\n",
    "       |-\n",
    "       |-\n",
    "    "
   ]
  },
  {
   "cell_type": "code",
   "execution_count": null,
   "metadata": {},
   "outputs": [],
   "source": []
  }
 ],
 "metadata": {
  "kernelspec": {
   "display_name": "Python (learn-env)",
   "language": "python",
   "name": "learn-env"
  },
  "language_info": {
   "codemirror_mode": {
    "name": "ipython",
    "version": 3
   },
   "file_extension": ".py",
   "mimetype": "text/x-python",
   "name": "python",
   "nbconvert_exporter": "python",
   "pygments_lexer": "ipython3",
   "version": "3.8.5"
  }
 },
 "nbformat": 4,
 "nbformat_minor": 4
}
